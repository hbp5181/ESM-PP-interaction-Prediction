{
  "cells": [
    {
      "cell_type": "code",
      "execution_count": 2,
      "metadata": {
        "colab": {
          "base_uri": "https://localhost:8080/"
        },
        "id": "vdCYhDV6WFsX",
        "outputId": "43238897-5d85-4f7d-84b4-0d763ecd79c2"
      },
      "outputs": [
        {
          "name": "stdout",
          "output_type": "stream",
          "text": [
            "Requirement already satisfied: torch in /usr/local/lib/python3.10/dist-packages (2.1.0+cu118)\n",
            "Requirement already satisfied: filelock in /usr/local/lib/python3.10/dist-packages (from torch) (3.13.1)\n",
            "Requirement already satisfied: typing-extensions in /usr/local/lib/python3.10/dist-packages (from torch) (4.5.0)\n",
            "Requirement already satisfied: sympy in /usr/local/lib/python3.10/dist-packages (from torch) (1.12)\n",
            "Requirement already satisfied: networkx in /usr/local/lib/python3.10/dist-packages (from torch) (3.2.1)\n",
            "Requirement already satisfied: jinja2 in /usr/local/lib/python3.10/dist-packages (from torch) (3.1.2)\n",
            "Requirement already satisfied: fsspec in /usr/local/lib/python3.10/dist-packages (from torch) (2023.6.0)\n",
            "Requirement already satisfied: triton==2.1.0 in /usr/local/lib/python3.10/dist-packages (from torch) (2.1.0)\n",
            "Requirement already satisfied: MarkupSafe>=2.0 in /usr/local/lib/python3.10/dist-packages (from jinja2->torch) (2.1.3)\n",
            "Requirement already satisfied: mpmath>=0.19 in /usr/local/lib/python3.10/dist-packages (from sympy->torch) (1.3.0)\n",
            "Collecting datasets\n",
            "  Downloading datasets-2.15.0-py3-none-any.whl (521 kB)\n",
            "\u001b[2K     \u001b[90m━━━━━━━━━━━━━━━━━━━━━━━━━━━━━━━━━━━━━━━━\u001b[0m \u001b[32m521.2/521.2 kB\u001b[0m \u001b[31m5.8 MB/s\u001b[0m eta \u001b[36m0:00:00\u001b[0m\n",
            "\u001b[?25hRequirement already satisfied: numpy>=1.17 in /usr/local/lib/python3.10/dist-packages (from datasets) (1.23.5)\n",
            "Requirement already satisfied: pyarrow>=8.0.0 in /usr/local/lib/python3.10/dist-packages (from datasets) (9.0.0)\n",
            "Collecting pyarrow-hotfix (from datasets)\n",
            "  Downloading pyarrow_hotfix-0.5-py3-none-any.whl (7.8 kB)\n",
            "Collecting dill<0.3.8,>=0.3.0 (from datasets)\n",
            "  Downloading dill-0.3.7-py3-none-any.whl (115 kB)\n",
            "\u001b[2K     \u001b[90m━━━━━━━━━━━━━━━━━━━━━━━━━━━━━━━━━━━━━━━━\u001b[0m \u001b[32m115.3/115.3 kB\u001b[0m \u001b[31m13.2 MB/s\u001b[0m eta \u001b[36m0:00:00\u001b[0m\n",
            "\u001b[?25hRequirement already satisfied: pandas in /usr/local/lib/python3.10/dist-packages (from datasets) (1.5.3)\n",
            "Requirement already satisfied: requests>=2.19.0 in /usr/local/lib/python3.10/dist-packages (from datasets) (2.31.0)\n",
            "Requirement already satisfied: tqdm>=4.62.1 in /usr/local/lib/python3.10/dist-packages (from datasets) (4.66.1)\n",
            "Requirement already satisfied: xxhash in /usr/local/lib/python3.10/dist-packages (from datasets) (3.4.1)\n",
            "Collecting multiprocess (from datasets)\n",
            "  Downloading multiprocess-0.70.15-py310-none-any.whl (134 kB)\n",
            "\u001b[2K     \u001b[90m━━━━━━━━━━━━━━━━━━━━━━━━━━━━━━━━━━━━━━━━\u001b[0m \u001b[32m134.8/134.8 kB\u001b[0m \u001b[31m12.9 MB/s\u001b[0m eta \u001b[36m0:00:00\u001b[0m\n",
            "\u001b[?25hRequirement already satisfied: fsspec[http]<=2023.10.0,>=2023.1.0 in /usr/local/lib/python3.10/dist-packages (from datasets) (2023.6.0)\n",
            "Requirement already satisfied: aiohttp in /usr/local/lib/python3.10/dist-packages (from datasets) (3.8.6)\n",
            "Requirement already satisfied: huggingface-hub>=0.18.0 in /usr/local/lib/python3.10/dist-packages (from datasets) (0.19.4)\n",
            "Requirement already satisfied: packaging in /usr/local/lib/python3.10/dist-packages (from datasets) (23.2)\n",
            "Requirement already satisfied: pyyaml>=5.1 in /usr/local/lib/python3.10/dist-packages (from datasets) (6.0.1)\n",
            "Requirement already satisfied: attrs>=17.3.0 in /usr/local/lib/python3.10/dist-packages (from aiohttp->datasets) (23.1.0)\n",
            "Requirement already satisfied: charset-normalizer<4.0,>=2.0 in /usr/local/lib/python3.10/dist-packages (from aiohttp->datasets) (3.3.2)\n",
            "Requirement already satisfied: multidict<7.0,>=4.5 in /usr/local/lib/python3.10/dist-packages (from aiohttp->datasets) (6.0.4)\n",
            "Requirement already satisfied: async-timeout<5.0,>=4.0.0a3 in /usr/local/lib/python3.10/dist-packages (from aiohttp->datasets) (4.0.3)\n",
            "Requirement already satisfied: yarl<2.0,>=1.0 in /usr/local/lib/python3.10/dist-packages (from aiohttp->datasets) (1.9.2)\n",
            "Requirement already satisfied: frozenlist>=1.1.1 in /usr/local/lib/python3.10/dist-packages (from aiohttp->datasets) (1.4.0)\n",
            "Requirement already satisfied: aiosignal>=1.1.2 in /usr/local/lib/python3.10/dist-packages (from aiohttp->datasets) (1.3.1)\n",
            "Requirement already satisfied: filelock in /usr/local/lib/python3.10/dist-packages (from huggingface-hub>=0.18.0->datasets) (3.13.1)\n",
            "Requirement already satisfied: typing-extensions>=3.7.4.3 in /usr/local/lib/python3.10/dist-packages (from huggingface-hub>=0.18.0->datasets) (4.5.0)\n",
            "Requirement already satisfied: idna<4,>=2.5 in /usr/local/lib/python3.10/dist-packages (from requests>=2.19.0->datasets) (3.4)\n",
            "Requirement already satisfied: urllib3<3,>=1.21.1 in /usr/local/lib/python3.10/dist-packages (from requests>=2.19.0->datasets) (2.0.7)\n",
            "Requirement already satisfied: certifi>=2017.4.17 in /usr/local/lib/python3.10/dist-packages (from requests>=2.19.0->datasets) (2023.7.22)\n",
            "Requirement already satisfied: python-dateutil>=2.8.1 in /usr/local/lib/python3.10/dist-packages (from pandas->datasets) (2.8.2)\n",
            "Requirement already satisfied: pytz>=2020.1 in /usr/local/lib/python3.10/dist-packages (from pandas->datasets) (2023.3.post1)\n",
            "Requirement already satisfied: six>=1.5 in /usr/local/lib/python3.10/dist-packages (from python-dateutil>=2.8.1->pandas->datasets) (1.16.0)\n",
            "Installing collected packages: pyarrow-hotfix, dill, multiprocess, datasets\n",
            "Successfully installed datasets-2.15.0 dill-0.3.7 multiprocess-0.70.15 pyarrow-hotfix-0.5\n"
          ]
        }
      ],
      "source": [
        "!pip install torch\n",
        "!pip install datasets\n",
        "# this notebook use the datasets from the torchdrug"
      ]
    },
    {
      "cell_type": "code",
      "execution_count": 3,
      "metadata": {
        "colab": {
          "base_uri": "https://localhost:8080/"
        },
        "id": "xGWFnMuFW6MC",
        "outputId": "e5538a49-d0ed-4a16-8f1e-dd4e40ad091b"
      },
      "outputs": [
        {
          "name": "stdout",
          "output_type": "stream",
          "text": [
            "Cloning into 'torchdrug'...\n",
            "remote: Enumerating objects: 1381, done.\u001b[K\n",
            "remote: Counting objects: 100% (752/752), done.\u001b[K\n",
            "remote: Compressing objects: 100% (327/327), done.\u001b[K\n",
            "remote: Total 1381 (delta 473), reused 597 (delta 404), pack-reused 629\u001b[K\n",
            "Receiving objects: 100% (1381/1381), 2.65 MiB | 12.91 MiB/s, done.\n",
            "Resolving deltas: 100% (739/739), done.\n",
            "Collecting torchdrug\n",
            "  Downloading torchdrug-0.2.1-py3-none-any.whl (268 kB)\n",
            "\u001b[2K     \u001b[90m━━━━━━━━━━━━━━━━━━━━━━━━━━━━━━━━━━━━━━━━\u001b[0m \u001b[32m268.5/268.5 kB\u001b[0m \u001b[31m5.3 MB/s\u001b[0m eta \u001b[36m0:00:00\u001b[0m\n",
            "\u001b[?25hRequirement already satisfied: torch>=1.8.0 in /usr/local/lib/python3.10/dist-packages (from torchdrug) (2.1.0+cu118)\n",
            "Collecting torch-scatter>=2.0.8 (from torchdrug)\n",
            "  Downloading torch_scatter-2.1.2.tar.gz (108 kB)\n",
            "\u001b[2K     \u001b[90m━━━━━━━━━━━━━━━━━━━━━━━━━━━━━━━━━━━━━━━━\u001b[0m \u001b[32m108.0/108.0 kB\u001b[0m \u001b[31m14.6 MB/s\u001b[0m eta \u001b[36m0:00:00\u001b[0m\n",
            "\u001b[?25h  Preparing metadata (setup.py) ... \u001b[?25l\u001b[?25hdone\n",
            "Collecting torch-cluster>=1.5.9 (from torchdrug)\n",
            "  Downloading torch_cluster-1.6.3.tar.gz (54 kB)\n",
            "\u001b[2K     \u001b[90m━━━━━━━━━━━━━━━━━━━━━━━━━━━━━━━━━━━━━━━━\u001b[0m \u001b[32m54.5/54.5 kB\u001b[0m \u001b[31m6.3 MB/s\u001b[0m eta \u001b[36m0:00:00\u001b[0m\n",
            "\u001b[?25h  Preparing metadata (setup.py) ... \u001b[?25l\u001b[?25hdone\n",
            "Requirement already satisfied: decorator in /usr/local/lib/python3.10/dist-packages (from torchdrug) (4.4.2)\n",
            "Requirement already satisfied: numpy>=1.11 in /usr/local/lib/python3.10/dist-packages (from torchdrug) (1.23.5)\n",
            "Collecting rdkit-pypi>=2020.9 (from torchdrug)\n",
            "  Downloading rdkit_pypi-2022.9.5-cp310-cp310-manylinux_2_17_x86_64.manylinux2014_x86_64.whl (29.4 MB)\n",
            "\u001b[2K     \u001b[90m━━━━━━━━━━━━━━━━━━━━━━━━━━━━━━━━━━━━━━━━\u001b[0m \u001b[32m29.4/29.4 MB\u001b[0m \u001b[31m44.4 MB/s\u001b[0m eta \u001b[36m0:00:00\u001b[0m\n",
            "\u001b[?25hRequirement already satisfied: matplotlib in /usr/local/lib/python3.10/dist-packages (from torchdrug) (3.7.1)\n",
            "Requirement already satisfied: tqdm in /usr/local/lib/python3.10/dist-packages (from torchdrug) (4.66.1)\n",
            "Requirement already satisfied: networkx in /usr/local/lib/python3.10/dist-packages (from torchdrug) (3.2.1)\n",
            "Collecting ninja (from torchdrug)\n",
            "  Downloading ninja-1.11.1.1-py2.py3-none-manylinux1_x86_64.manylinux_2_5_x86_64.whl (307 kB)\n",
            "\u001b[2K     \u001b[90m━━━━━━━━━━━━━━━━━━━━━━━━━━━━━━━━━━━━━━━━\u001b[0m \u001b[32m307.2/307.2 kB\u001b[0m \u001b[31m35.9 MB/s\u001b[0m eta \u001b[36m0:00:00\u001b[0m\n",
            "\u001b[?25hRequirement already satisfied: jinja2 in /usr/local/lib/python3.10/dist-packages (from torchdrug) (3.1.2)\n",
            "Collecting lmdb (from torchdrug)\n",
            "  Downloading lmdb-1.4.1-cp310-cp310-manylinux_2_17_x86_64.manylinux2014_x86_64.whl (299 kB)\n",
            "\u001b[2K     \u001b[90m━━━━━━━━━━━━━━━━━━━━━━━━━━━━━━━━━━━━━━━━\u001b[0m \u001b[32m299.2/299.2 kB\u001b[0m \u001b[31m38.0 MB/s\u001b[0m eta \u001b[36m0:00:00\u001b[0m\n",
            "\u001b[?25hCollecting fair-esm (from torchdrug)\n",
            "  Downloading fair_esm-2.0.0-py3-none-any.whl (93 kB)\n",
            "\u001b[2K     \u001b[90m━━━━━━━━━━━━━━━━━━━━━━━━━━━━━━━━━━━━━━━━\u001b[0m \u001b[32m93.1/93.1 kB\u001b[0m \u001b[31m13.7 MB/s\u001b[0m eta \u001b[36m0:00:00\u001b[0m\n",
            "\u001b[?25hRequirement already satisfied: Pillow in /usr/local/lib/python3.10/dist-packages (from rdkit-pypi>=2020.9->torchdrug) (9.4.0)\n",
            "Requirement already satisfied: filelock in /usr/local/lib/python3.10/dist-packages (from torch>=1.8.0->torchdrug) (3.13.1)\n",
            "Requirement already satisfied: typing-extensions in /usr/local/lib/python3.10/dist-packages (from torch>=1.8.0->torchdrug) (4.5.0)\n",
            "Requirement already satisfied: sympy in /usr/local/lib/python3.10/dist-packages (from torch>=1.8.0->torchdrug) (1.12)\n",
            "Requirement already satisfied: fsspec in /usr/local/lib/python3.10/dist-packages (from torch>=1.8.0->torchdrug) (2023.6.0)\n",
            "Requirement already satisfied: triton==2.1.0 in /usr/local/lib/python3.10/dist-packages (from torch>=1.8.0->torchdrug) (2.1.0)\n",
            "Requirement already satisfied: scipy in /usr/local/lib/python3.10/dist-packages (from torch-cluster>=1.5.9->torchdrug) (1.11.3)\n",
            "Requirement already satisfied: MarkupSafe>=2.0 in /usr/local/lib/python3.10/dist-packages (from jinja2->torchdrug) (2.1.3)\n",
            "Requirement already satisfied: contourpy>=1.0.1 in /usr/local/lib/python3.10/dist-packages (from matplotlib->torchdrug) (1.2.0)\n",
            "Requirement already satisfied: cycler>=0.10 in /usr/local/lib/python3.10/dist-packages (from matplotlib->torchdrug) (0.12.1)\n",
            "Requirement already satisfied: fonttools>=4.22.0 in /usr/local/lib/python3.10/dist-packages (from matplotlib->torchdrug) (4.44.3)\n",
            "Requirement already satisfied: kiwisolver>=1.0.1 in /usr/local/lib/python3.10/dist-packages (from matplotlib->torchdrug) (1.4.5)\n",
            "Requirement already satisfied: packaging>=20.0 in /usr/local/lib/python3.10/dist-packages (from matplotlib->torchdrug) (23.2)\n",
            "Requirement already satisfied: pyparsing>=2.3.1 in /usr/local/lib/python3.10/dist-packages (from matplotlib->torchdrug) (3.1.1)\n",
            "Requirement already satisfied: python-dateutil>=2.7 in /usr/local/lib/python3.10/dist-packages (from matplotlib->torchdrug) (2.8.2)\n",
            "Requirement already satisfied: six>=1.5 in /usr/local/lib/python3.10/dist-packages (from python-dateutil>=2.7->matplotlib->torchdrug) (1.16.0)\n",
            "Requirement already satisfied: mpmath>=0.19 in /usr/local/lib/python3.10/dist-packages (from sympy->torch>=1.8.0->torchdrug) (1.3.0)\n",
            "Building wheels for collected packages: torch-cluster, torch-scatter\n",
            "  Building wheel for torch-cluster (setup.py) ... \u001b[?25l\u001b[?25hdone\n",
            "  Created wheel for torch-cluster: filename=torch_cluster-1.6.3-cp310-cp310-linux_x86_64.whl size=1955680 sha256=e33b2fc5f535d2abf094364750bc77011e16d059550ec165eaede8dc5c738ece\n",
            "  Stored in directory: /root/.cache/pip/wheels/51/78/c3/536637b3cdcc3313aa5e8851a6c72b97f6a01877e68c7595e3\n",
            "  Building wheel for torch-scatter (setup.py) ... \u001b[?25l\u001b[?25hdone\n",
            "  Created wheel for torch-scatter: filename=torch_scatter-2.1.2-cp310-cp310-linux_x86_64.whl size=3544160 sha256=83983af608aacc6771d0863c5eb3774ddd78b7f24ba6d7d6a395f665758cfe9f\n",
            "  Stored in directory: /root/.cache/pip/wheels/92/f1/2b/3b46d54b134259f58c8363568569053248040859b1a145b3ce\n",
            "Successfully built torch-cluster torch-scatter\n",
            "Installing collected packages: ninja, lmdb, fair-esm, torch-scatter, rdkit-pypi, torch-cluster, torchdrug\n",
            "Successfully installed fair-esm-2.0.0 lmdb-1.4.1 ninja-1.11.1.1 rdkit-pypi-2022.9.5 torch-cluster-1.6.3 torch-scatter-2.1.2 torchdrug-0.2.1\n",
            "Requirement already satisfied: torch-scatter in /usr/local/lib/python3.10/dist-packages (2.1.2)\n",
            "Requirement already satisfied: torch-cluster in /usr/local/lib/python3.10/dist-packages (1.6.3)\n",
            "Requirement already satisfied: scipy in /usr/local/lib/python3.10/dist-packages (from torch-cluster) (1.11.3)\n",
            "Requirement already satisfied: numpy<1.28.0,>=1.21.6 in /usr/local/lib/python3.10/dist-packages (from scipy->torch-cluster) (1.23.5)\n"
          ]
        }
      ],
      "source": [
        "!git clone https://github.com/DeepGraphLearning/torchdrug\n",
        "!pip install torchdrug\n",
        "!pip install torch-scatter\n",
        "!pip install torch-cluster\n"
      ]
    },
    {
      "cell_type": "code",
      "execution_count": 4,
      "metadata": {
        "colab": {
          "base_uri": "https://localhost:8080/"
        },
        "id": "Pug82q2zWUdM",
        "outputId": "eb81173d-f133-472b-f8c0-edfee7083bcc"
      },
      "outputs": [
        {
          "name": "stdout",
          "output_type": "stream",
          "text": [
            "Mounted at /content/drive\n"
          ]
        }
      ],
      "source": [
        "from google.colab import drive\n",
        "\n",
        "# Mount Google Drive to access files\n",
        "drive.mount('/content/drive')"
      ]
    },
    {
      "cell_type": "code",
      "execution_count": 5,
      "metadata": {
        "colab": {
          "base_uri": "https://localhost:8080/"
        },
        "id": "CzbABWqXWek5",
        "outputId": "6314183a-8a7d-4e72-f250-783ba364677e"
      },
      "outputs": [
        {
          "name": "stdout",
          "output_type": "stream",
          "text": [
            "total 48\n",
            "drwxr-xr-x 2 root root 4096 Nov 21 17:35 core\n",
            "drwxr-xr-x 3 root root 4096 Nov 21 17:35 data\n",
            "drwxr-xr-x 2 root root 4096 Nov 21 17:35 datasets\n",
            "-rw-r--r-- 1 root root  331 Nov 21 17:35 __init__.py\n",
            "drwxr-xr-x 4 root root 4096 Nov 21 17:35 layers\n",
            "drwxr-xr-x 3 root root 4096 Nov 21 17:35 metrics\n",
            "drwxr-xr-x 2 root root 4096 Nov 21 17:35 models\n",
            "-rw-r--r-- 1 root root 5625 Nov 21 17:35 patch.py\n",
            "drwxr-xr-x 2 root root 4096 Nov 21 17:35 tasks\n",
            "drwxr-xr-x 2 root root 4096 Nov 21 17:35 transforms\n",
            "drwxr-xr-x 4 root root 4096 Nov 21 17:35 utils\n",
            "Current working directory: /content/torchdrug/torchdrug\n"
          ]
        }
      ],
      "source": [
        "# Check current permissions\n",
        "!ls -l /content/torchdrug/torchdrug\n",
        "\n",
        "# Add read permission if necessary\n",
        "!chmod +r /content/torchdrug/torchdrug\n",
        "\n",
        "import os\n",
        "\n",
        "# Specify the directory path you want to change to\n",
        "new_directory = \"/content/torchdrug/torchdrug\"\n",
        "\n",
        "# Change the current working directory to the specified path\n",
        "os.chdir(new_directory)\n",
        "\n",
        "# Verify the current working directory has changed\n",
        "current_directory = os.getcwd()\n",
        "print(f\"Current working directory: {current_directory}\")"
      ]
    },
    {
      "cell_type": "code",
      "execution_count": 6,
      "metadata": {
        "id": "oidHVZkRDAPx"
      },
      "outputs": [],
      "source": [
        "# This part has been modifed to use the ESM model to predict the PP interaction rather than CNN model\n",
        "# there are two versions of ems model, esm-1b and esm-1v. this code uses esm-1b.\n",
        "from torchdrug import models\n",
        "\n",
        "# Specify the path to the ESM model weights file in Google Drive\n",
        "model_weights_path = \"/content/drive/MyDrive/model\"  # Replace with the your path\n",
        "\n",
        "# Create an instance of the ESM model, this code is directly from the website\n",
        "model = models.ESM(path=model_weights_path, model='ESM-1b', readout='mean')\n",
        "\n"
      ]
    },
    {
      "cell_type": "code",
      "execution_count": 7,
      "metadata": {
        "id": "BKqpzWMlpN-z"
      },
      "outputs": [],
      "source": [
        "# This part uses the residue values to trasnform the protein\n",
        "from torchdrug import transforms\n",
        "\n",
        "truncate_transform = transforms.TruncateProtein(max_length=200, random=False)\n",
        "protein_view_transform = transforms.ProteinView(view=\"residue\")\n",
        "transform = transforms.Compose([truncate_transform, protein_view_transform])\n"
      ]
    },
    {
      "cell_type": "code",
      "execution_count": 8,
      "metadata": {
        "colab": {
          "base_uri": "https://localhost:8080/"
        },
        "id": "Tbf07QIwpGTb",
        "outputId": "6c860500-368d-467a-febd-de929c963191"
      },
      "outputs": [
        {
          "name": "stderr",
          "output_type": "stream",
          "text": [
            "INFO:torchdrug.utils.file:Downloading https://miladeepgraphlearningproteindata.s3.us-east-2.amazonaws.com/peerdata/beta_lactamase.tar.gz to /root/protein-datasets/beta_lactamase.tar.gz\n"
          ]
        },
        {
          "name": "stdout",
          "output_type": "stream",
          "text": [
            "18:22:14   Downloading https://miladeepgraphlearningproteindata.s3.us-east-2.amazonaws.com/peerdata/beta_lactamase.tar.gz to /root/protein-datasets/beta_lactamase.tar.gz\n"
          ]
        },
        {
          "name": "stderr",
          "output_type": "stream",
          "text": [
            "INFO:torchdrug.utils.file:Extracting /root/protein-datasets/beta_lactamase.tar.gz to /root/protein-datasets\n"
          ]
        },
        {
          "name": "stdout",
          "output_type": "stream",
          "text": [
            "18:22:15   Extracting /root/protein-datasets/beta_lactamase.tar.gz to /root/protein-datasets\n"
          ]
        },
        {
          "name": "stderr",
          "output_type": "stream",
          "text": [
            "Constructing proteins from sequences: 100%|██████████| 5198/5198 [00:15<00:00, 339.87it/s]"
          ]
        },
        {
          "name": "stdout",
          "output_type": "stream",
          "text": [
            "The label of first sample:  0.9426838159561157\n",
            "train samples: 4158, valid samples: 520, test samples: 520\n"
          ]
        },
        {
          "name": "stderr",
          "output_type": "stream",
          "text": [
            "\n"
          ]
        }
      ],
      "source": [
        "#imports data of BetaLactamase from the torchdurg. We can replace this part without own datasets\n",
        "from torchdrug import datasets\n",
        "\n",
        "dataset = datasets.BetaLactamase(\"~/protein-datasets/\", atom_feature=None, bond_feature=None, residue_feature=\"default\", transform=transform)\n",
        "train_set, valid_set, test_set = dataset.split()\n",
        "print(\"The label of first sample: \", dataset[0][dataset.target_fields[0]])\n",
        "print(\"train samples: %d, valid samples: %d, test samples: %d\" % (len(train_set), len(valid_set), len(test_set)))\n"
      ]
    },
    {
      "cell_type": "code",
      "execution_count": 9,
      "metadata": {
        "colab": {
          "base_uri": "https://localhost:8080/"
        },
        "id": "YVGVIo_qqRnZ",
        "outputId": "fe0d0c59-c293-4a82-bfa1-ca5f35b851c9"
      },
      "outputs": [
        {
          "name": "stderr",
          "output_type": "stream",
          "text": [
            "INFO:torchdrug.utils.file:Downloading https://miladeepgraphlearningproteindata.s3.us-east-2.amazonaws.com/ppidata/ppi_affinity.zip to /root/protein-datasets/ppi_affinity.zip\n"
          ]
        },
        {
          "name": "stdout",
          "output_type": "stream",
          "text": [
            "18:22:30   Downloading https://miladeepgraphlearningproteindata.s3.us-east-2.amazonaws.com/ppidata/ppi_affinity.zip to /root/protein-datasets/ppi_affinity.zip\n"
          ]
        },
        {
          "name": "stderr",
          "output_type": "stream",
          "text": [
            "INFO:torchdrug.utils.file:Extracting /root/protein-datasets/ppi_affinity.zip to /root/protein-datasets\n"
          ]
        },
        {
          "name": "stdout",
          "output_type": "stream",
          "text": [
            "18:22:31   Extracting /root/protein-datasets/ppi_affinity.zip to /root/protein-datasets\n"
          ]
        },
        {
          "name": "stderr",
          "output_type": "stream",
          "text": [
            "Constructing proteins from sequences: 100%|██████████| 2950/2950 [00:10<00:00, 273.91it/s]"
          ]
        },
        {
          "name": "stdout",
          "output_type": "stream",
          "text": [
            "The label of first sample:  -12.2937\n",
            "train samples: 2421, valid samples: 203, test samples: 326\n"
          ]
        },
        {
          "name": "stderr",
          "output_type": "stream",
          "text": [
            "\n"
          ]
        }
      ],
      "source": [
        "# We first build the dataset via datasets.PPIAffinity, in which each sample is a pair of proteins,\n",
        "# and it is associated with a continuous label indicating the binding affinity.\n",
        "# Since we now need to perform transformation on both proteins, we need to specify keys in the transformation function.\n",
        "# This code only utilize the residue values. Atom featurs, bond futures are omitted.\n",
        "truncate_transform_ = transforms.TruncateProtein(max_length=200, keys=(\"graph1\", \"graph2\"))\n",
        "protein_view_transform_ = transforms.ProteinView(view=\"residue\", keys=(\"graph1\", \"graph2\"))\n",
        "transform_ = transforms.Compose([truncate_transform_, protein_view_transform_])\n",
        "dataset = datasets.PPIAffinity(\"~/protein-datasets/\", atom_feature=None, bond_feature=None, residue_feature=\"default\", transform=transform_)\n",
        "train_set, valid_set, test_set = dataset.split()\n",
        "print(\"The label of first sample: \", dataset[0][dataset.target_fields[0]])\n",
        "print(\"train samples: %d, valid samples: %d, test samples: %d\" % (len(train_set), len(valid_set), len(test_set)))\n"
      ]
    },
    {
      "cell_type": "code",
      "execution_count": 10,
      "metadata": {
        "id": "CG9uqmBap8mN"
      },
      "outputs": [],
      "source": [
        "# To perform PPI affinity prediction, we wrap the ESM encoder into the tasks.InteractionPrediction module\n",
        "# which appends a task-specific MLP prediction head upon ESM model.\n",
        "from torchdrug import tasks\n",
        "\n",
        "task = tasks.PropertyPrediction(model, task=dataset.tasks,\n",
        "                                criterion=\"mse\", metric=(\"mae\", \"rmse\", \"spearmanr\"),\n",
        "                                normalization=False, num_mlp_layer=2)\n"
      ]
    },
    {
      "cell_type": "code",
      "execution_count": 12,
      "metadata": {
        "id": "-8av-ZOq1fks"
      },
      "outputs": [],
      "source": [
        "# Empties the cuda to reduce the storage\n",
        "torch.cuda.empty_cache()"
      ]
    },
    {
      "cell_type": "code",
      "execution_count": 13,
      "metadata": {
        "id": "BWIKJIazxCaQ"
      },
      "outputs": [],
      "source": [
        "# This part is added to specify the split size to reduce the memory. can be eliminated.\n",
        "# If eliminated, all datasets will be utilized.\n",
        "os.environ['PYTORCH_CUDA_ALLOC_CONF'] = 'max_split_size_mb:128'\n"
      ]
    },
    {
      "cell_type": "code",
      "execution_count": 14,
      "metadata": {
        "colab": {
          "base_uri": "https://localhost:8080/",
          "height": 1000
        },
        "id": "0gMZAFoyqMh6",
        "outputId": "90b6ebae-9efb-400d-e419-8f5f855dff63"
      },
      "outputs": [
        {
          "name": "stderr",
          "output_type": "stream",
          "text": [
            "WARNING:torchdrug.core.engine:Preprocess training set\n"
          ]
        },
        {
          "name": "stdout",
          "output_type": "stream",
          "text": [
            "18:22:44   Preprocess training set\n"
          ]
        },
        {
          "name": "stderr",
          "output_type": "stream",
          "text": [
            "WARNING:torchdrug.core.logger:{'batch_size': 1,\n",
            " 'class': 'core.Engine',\n",
            " 'gpus': [0],\n",
            " 'gradient_interval': 1,\n",
            " 'log_interval': 100,\n",
            " 'logger': 'logging',\n",
            " 'num_worker': 0,\n",
            " 'optimizer': {'amsgrad': False,\n",
            "               'betas': (0.9, 0.999),\n",
            "               'capturable': False,\n",
            "               'class': 'optim.Adam',\n",
            "               'differentiable': False,\n",
            "               'eps': 1e-08,\n",
            "               'foreach': None,\n",
            "               'fused': None,\n",
            "               'lr': 0.0001,\n",
            "               'maximize': False,\n",
            "               'weight_decay': 0},\n",
            " 'scheduler': None,\n",
            " 'task': {'class': 'tasks.InteractionPrediction',\n",
            "          'criterion': 'mse',\n",
            "          'graph_construction_model': None,\n",
            "          'metric': ('mae', 'rmse', 'spearmanr'),\n",
            "          'mlp_batch_norm': False,\n",
            "          'mlp_dropout': 0,\n",
            "          'model': {'class': 'models.ESM',\n",
            "                    'model': 'ESM-1b',\n",
            "                    'path': '/content/drive/MyDrive/model',\n",
            "                    'readout': 'mean'},\n",
            "          'normalization': False,\n",
            "          'num_class': None,\n",
            "          'num_mlp_layer': 2,\n",
            "          'task': ['interaction'],\n",
            "          'verbose': 0},\n",
            " 'test_set': {'class': 'dataset.Subset',\n",
            "              'dataset': {'atom_feature': None,\n",
            "                          'bond_feature': None,\n",
            "                          'class': 'datasets.PPIAffinity',\n",
            "                          'path': '~/protein-datasets/',\n",
            "                          'residue_feature': 'default',\n",
            "                          'transform': {'class': 'transforms.Compose',\n",
            "                                        'transforms': [{'class': 'transforms.TruncateProtein',\n",
            "                                                        'keys': ('graph1',\n",
            "                                                                 'graph2'),\n",
            "                                                        'max_length': 200,\n",
            "                                                        'random': False},\n",
            "                                                       {'class': 'transforms.ProteinView',\n",
            "                                                        'keys': ('graph1',\n",
            "                                                                 'graph2'),\n",
            "                                                        'view': 'residue'}]},\n",
            "                          'verbose': 1},\n",
            "              'indices': range(2624, 2950)},\n",
            " 'train_set': {'class': 'dataset.Subset',\n",
            "               'dataset': {'atom_feature': None,\n",
            "                           'bond_feature': None,\n",
            "                           'class': 'datasets.PPIAffinity',\n",
            "                           'path': '~/protein-datasets/',\n",
            "                           'residue_feature': 'default',\n",
            "                           'transform': {'class': 'transforms.Compose',\n",
            "                                         'transforms': [{'class': 'transforms.TruncateProtein',\n",
            "                                                         'keys': ('graph1',\n",
            "                                                                  'graph2'),\n",
            "                                                         'max_length': 200,\n",
            "                                                         'random': False},\n",
            "                                                        {'class': 'transforms.ProteinView',\n",
            "                                                         'keys': ('graph1',\n",
            "                                                                  'graph2'),\n",
            "                                                         'view': 'residue'}]},\n",
            "                           'verbose': 1},\n",
            "               'indices': range(0, 2421)},\n",
            " 'valid_set': {'class': 'dataset.Subset',\n",
            "               'dataset': {'atom_feature': None,\n",
            "                           'bond_feature': None,\n",
            "                           'class': 'datasets.PPIAffinity',\n",
            "                           'path': '~/protein-datasets/',\n",
            "                           'residue_feature': 'default',\n",
            "                           'transform': {'class': 'transforms.Compose',\n",
            "                                         'transforms': [{'class': 'transforms.TruncateProtein',\n",
            "                                                         'keys': ('graph1',\n",
            "                                                                  'graph2'),\n",
            "                                                         'max_length': 200,\n",
            "                                                         'random': False},\n",
            "                                                        {'class': 'transforms.ProteinView',\n",
            "                                                         'keys': ('graph1',\n",
            "                                                                  'graph2'),\n",
            "                                                         'view': 'residue'}]},\n",
            "                           'verbose': 1},\n",
            "               'indices': range(2421, 2624)}}\n"
          ]
        },
        {
          "name": "stdout",
          "output_type": "stream",
          "text": [
            "18:22:54   {'batch_size': 1,\n",
            " 'class': 'core.Engine',\n",
            " 'gpus': [0],\n",
            " 'gradient_interval': 1,\n",
            " 'log_interval': 100,\n",
            " 'logger': 'logging',\n",
            " 'num_worker': 0,\n",
            " 'optimizer': {'amsgrad': False,\n",
            "               'betas': (0.9, 0.999),\n",
            "               'capturable': False,\n",
            "               'class': 'optim.Adam',\n",
            "               'differentiable': False,\n",
            "               'eps': 1e-08,\n",
            "               'foreach': None,\n",
            "               'fused': None,\n",
            "               'lr': 0.0001,\n",
            "               'maximize': False,\n",
            "               'weight_decay': 0},\n",
            " 'scheduler': None,\n",
            " 'task': {'class': 'tasks.InteractionPrediction',\n",
            "          'criterion': 'mse',\n",
            "          'graph_construction_model': None,\n",
            "          'metric': ('mae', 'rmse', 'spearmanr'),\n",
            "          'mlp_batch_norm': False,\n",
            "          'mlp_dropout': 0,\n",
            "          'model': {'class': 'models.ESM',\n",
            "                    'model': 'ESM-1b',\n",
            "                    'path': '/content/drive/MyDrive/model',\n",
            "                    'readout': 'mean'},\n",
            "          'normalization': False,\n",
            "          'num_class': None,\n",
            "          'num_mlp_layer': 2,\n",
            "          'task': ['interaction'],\n",
            "          'verbose': 0},\n",
            " 'test_set': {'class': 'dataset.Subset',\n",
            "              'dataset': {'atom_feature': None,\n",
            "                          'bond_feature': None,\n",
            "                          'class': 'datasets.PPIAffinity',\n",
            "                          'path': '~/protein-datasets/',\n",
            "                          'residue_feature': 'default',\n",
            "                          'transform': {'class': 'transforms.Compose',\n",
            "                                        'transforms': [{'class': 'transforms.TruncateProtein',\n",
            "                                                        'keys': ('graph1',\n",
            "                                                                 'graph2'),\n",
            "                                                        'max_length': 200,\n",
            "                                                        'random': False},\n",
            "                                                       {'class': 'transforms.ProteinView',\n",
            "                                                        'keys': ('graph1',\n",
            "                                                                 'graph2'),\n",
            "                                                        'view': 'residue'}]},\n",
            "                          'verbose': 1},\n",
            "              'indices': range(2624, 2950)},\n",
            " 'train_set': {'class': 'dataset.Subset',\n",
            "               'dataset': {'atom_feature': None,\n",
            "                           'bond_feature': None,\n",
            "                           'class': 'datasets.PPIAffinity',\n",
            "                           'path': '~/protein-datasets/',\n",
            "                           'residue_feature': 'default',\n",
            "                           'transform': {'class': 'transforms.Compose',\n",
            "                                         'transforms': [{'class': 'transforms.TruncateProtein',\n",
            "                                                         'keys': ('graph1',\n",
            "                                                                  'graph2'),\n",
            "                                                         'max_length': 200,\n",
            "                                                         'random': False},\n",
            "                                                        {'class': 'transforms.ProteinView',\n",
            "                                                         'keys': ('graph1',\n",
            "                                                                  'graph2'),\n",
            "                                                         'view': 'residue'}]},\n",
            "                           'verbose': 1},\n",
            "               'indices': range(0, 2421)},\n",
            " 'valid_set': {'class': 'dataset.Subset',\n",
            "               'dataset': {'atom_feature': None,\n",
            "                           'bond_feature': None,\n",
            "                           'class': 'datasets.PPIAffinity',\n",
            "                           'path': '~/protein-datasets/',\n",
            "                           'residue_feature': 'default',\n",
            "                           'transform': {'class': 'transforms.Compose',\n",
            "                                         'transforms': [{'class': 'transforms.TruncateProtein',\n",
            "                                                         'keys': ('graph1',\n",
            "                                                                  'graph2'),\n",
            "                                                         'max_length': 200,\n",
            "                                                         'random': False},\n",
            "                                                        {'class': 'transforms.ProteinView',\n",
            "                                                         'keys': ('graph1',\n",
            "                                                                  'graph2'),\n",
            "                                                         'view': 'residue'}]},\n",
            "                           'verbose': 1},\n",
            "               'indices': range(2421, 2624)}}\n"
          ]
        },
        {
          "name": "stderr",
          "output_type": "stream",
          "text": [
            "WARNING:torchdrug.core.meter:>>>>>>>>>>>>>>>>>>>>>>>>>>>>>>\n"
          ]
        },
        {
          "name": "stdout",
          "output_type": "stream",
          "text": [
            "18:22:54   >>>>>>>>>>>>>>>>>>>>>>>>>>>>>>\n"
          ]
        },
        {
          "name": "stderr",
          "output_type": "stream",
          "text": [
            "WARNING:torchdrug.core.meter:Epoch 0 begin\n"
          ]
        },
        {
          "name": "stdout",
          "output_type": "stream",
          "text": [
            "18:22:54   Epoch 0 begin\n"
          ]
        },
        {
          "name": "stderr",
          "output_type": "stream",
          "text": [
            "WARNING:torchdrug.core.logger:>>>>>>>>>>>>>>>>>>>>>>>>>>>>>>\n"
          ]
        },
        {
          "name": "stdout",
          "output_type": "stream",
          "text": [
            "18:22:58   >>>>>>>>>>>>>>>>>>>>>>>>>>>>>>\n"
          ]
        },
        {
          "name": "stderr",
          "output_type": "stream",
          "text": [
            "WARNING:torchdrug.core.logger:mean squared error: 113.139\n"
          ]
        },
        {
          "name": "stdout",
          "output_type": "stream",
          "text": [
            "18:22:58   mean squared error: 113.139\n"
          ]
        },
        {
          "name": "stderr",
          "output_type": "stream",
          "text": [
            "WARNING:torchdrug.core.logger:>>>>>>>>>>>>>>>>>>>>>>>>>>>>>>\n"
          ]
        },
        {
          "name": "stdout",
          "output_type": "stream",
          "text": [
            "18:24:00   >>>>>>>>>>>>>>>>>>>>>>>>>>>>>>\n"
          ]
        },
        {
          "name": "stderr",
          "output_type": "stream",
          "text": [
            "WARNING:torchdrug.core.logger:mean squared error: 12.2446\n"
          ]
        },
        {
          "name": "stdout",
          "output_type": "stream",
          "text": [
            "18:24:01   mean squared error: 12.2446\n"
          ]
        },
        {
          "name": "stderr",
          "output_type": "stream",
          "text": [
            "WARNING:torchdrug.core.logger:>>>>>>>>>>>>>>>>>>>>>>>>>>>>>>\n"
          ]
        },
        {
          "name": "stdout",
          "output_type": "stream",
          "text": [
            "18:25:05   >>>>>>>>>>>>>>>>>>>>>>>>>>>>>>\n"
          ]
        },
        {
          "name": "stderr",
          "output_type": "stream",
          "text": [
            "WARNING:torchdrug.core.logger:mean squared error: 15.7419\n"
          ]
        },
        {
          "name": "stdout",
          "output_type": "stream",
          "text": [
            "18:25:05   mean squared error: 15.7419\n"
          ]
        },
        {
          "name": "stderr",
          "output_type": "stream",
          "text": [
            "WARNING:torchdrug.core.logger:>>>>>>>>>>>>>>>>>>>>>>>>>>>>>>\n"
          ]
        },
        {
          "name": "stdout",
          "output_type": "stream",
          "text": [
            "18:26:11   >>>>>>>>>>>>>>>>>>>>>>>>>>>>>>\n"
          ]
        },
        {
          "name": "stderr",
          "output_type": "stream",
          "text": [
            "WARNING:torchdrug.core.logger:mean squared error: 0.00518984\n"
          ]
        },
        {
          "name": "stdout",
          "output_type": "stream",
          "text": [
            "18:26:11   mean squared error: 0.00518984\n"
          ]
        },
        {
          "name": "stderr",
          "output_type": "stream",
          "text": [
            "WARNING:torchdrug.core.logger:>>>>>>>>>>>>>>>>>>>>>>>>>>>>>>\n"
          ]
        },
        {
          "name": "stdout",
          "output_type": "stream",
          "text": [
            "18:27:17   >>>>>>>>>>>>>>>>>>>>>>>>>>>>>>\n"
          ]
        },
        {
          "name": "stderr",
          "output_type": "stream",
          "text": [
            "WARNING:torchdrug.core.logger:mean squared error: 3.03291\n"
          ]
        },
        {
          "name": "stdout",
          "output_type": "stream",
          "text": [
            "18:27:17   mean squared error: 3.03291\n"
          ]
        },
        {
          "name": "stderr",
          "output_type": "stream",
          "text": [
            "WARNING:torchdrug.core.logger:>>>>>>>>>>>>>>>>>>>>>>>>>>>>>>\n"
          ]
        },
        {
          "name": "stdout",
          "output_type": "stream",
          "text": [
            "18:28:24   >>>>>>>>>>>>>>>>>>>>>>>>>>>>>>\n"
          ]
        },
        {
          "name": "stderr",
          "output_type": "stream",
          "text": [
            "WARNING:torchdrug.core.logger:mean squared error: 15.1568\n"
          ]
        },
        {
          "name": "stdout",
          "output_type": "stream",
          "text": [
            "18:28:24   mean squared error: 15.1568\n"
          ]
        },
        {
          "name": "stderr",
          "output_type": "stream",
          "text": [
            "WARNING:torchdrug.core.logger:>>>>>>>>>>>>>>>>>>>>>>>>>>>>>>\n"
          ]
        },
        {
          "name": "stdout",
          "output_type": "stream",
          "text": [
            "18:29:31   >>>>>>>>>>>>>>>>>>>>>>>>>>>>>>\n"
          ]
        },
        {
          "name": "stderr",
          "output_type": "stream",
          "text": [
            "WARNING:torchdrug.core.logger:mean squared error: 3.04083\n"
          ]
        },
        {
          "name": "stdout",
          "output_type": "stream",
          "text": [
            "18:29:32   mean squared error: 3.04083\n"
          ]
        },
        {
          "name": "stderr",
          "output_type": "stream",
          "text": [
            "WARNING:torchdrug.core.logger:>>>>>>>>>>>>>>>>>>>>>>>>>>>>>>\n"
          ]
        },
        {
          "name": "stdout",
          "output_type": "stream",
          "text": [
            "18:30:39   >>>>>>>>>>>>>>>>>>>>>>>>>>>>>>\n"
          ]
        },
        {
          "name": "stderr",
          "output_type": "stream",
          "text": [
            "WARNING:torchdrug.core.logger:mean squared error: 0.00336097\n"
          ]
        },
        {
          "name": "stdout",
          "output_type": "stream",
          "text": [
            "18:30:39   mean squared error: 0.00336097\n"
          ]
        },
        {
          "name": "stderr",
          "output_type": "stream",
          "text": [
            "WARNING:torchdrug.core.logger:>>>>>>>>>>>>>>>>>>>>>>>>>>>>>>\n"
          ]
        },
        {
          "name": "stdout",
          "output_type": "stream",
          "text": [
            "18:31:45   >>>>>>>>>>>>>>>>>>>>>>>>>>>>>>\n"
          ]
        },
        {
          "name": "stderr",
          "output_type": "stream",
          "text": [
            "WARNING:torchdrug.core.logger:mean squared error: 10.0261\n"
          ]
        },
        {
          "name": "stdout",
          "output_type": "stream",
          "text": [
            "18:31:45   mean squared error: 10.0261\n"
          ]
        },
        {
          "name": "stderr",
          "output_type": "stream",
          "text": [
            "WARNING:torchdrug.core.logger:>>>>>>>>>>>>>>>>>>>>>>>>>>>>>>\n"
          ]
        },
        {
          "name": "stdout",
          "output_type": "stream",
          "text": [
            "18:32:52   >>>>>>>>>>>>>>>>>>>>>>>>>>>>>>\n"
          ]
        },
        {
          "name": "stderr",
          "output_type": "stream",
          "text": [
            "WARNING:torchdrug.core.logger:mean squared error: 0.88269\n"
          ]
        },
        {
          "name": "stdout",
          "output_type": "stream",
          "text": [
            "18:32:52   mean squared error: 0.88269\n"
          ]
        },
        {
          "name": "stderr",
          "output_type": "stream",
          "text": [
            "WARNING:torchdrug.core.logger:>>>>>>>>>>>>>>>>>>>>>>>>>>>>>>\n"
          ]
        },
        {
          "name": "stdout",
          "output_type": "stream",
          "text": [
            "18:34:00   >>>>>>>>>>>>>>>>>>>>>>>>>>>>>>\n"
          ]
        },
        {
          "name": "stderr",
          "output_type": "stream",
          "text": [
            "WARNING:torchdrug.core.logger:mean squared error: 0.520389\n"
          ]
        },
        {
          "name": "stdout",
          "output_type": "stream",
          "text": [
            "18:34:00   mean squared error: 0.520389\n"
          ]
        },
        {
          "name": "stderr",
          "output_type": "stream",
          "text": [
            "WARNING:torchdrug.core.logger:>>>>>>>>>>>>>>>>>>>>>>>>>>>>>>\n"
          ]
        },
        {
          "name": "stdout",
          "output_type": "stream",
          "text": [
            "18:35:08   >>>>>>>>>>>>>>>>>>>>>>>>>>>>>>\n"
          ]
        },
        {
          "name": "stderr",
          "output_type": "stream",
          "text": [
            "WARNING:torchdrug.core.logger:mean squared error: 0.0326436\n"
          ]
        },
        {
          "name": "stdout",
          "output_type": "stream",
          "text": [
            "18:35:08   mean squared error: 0.0326436\n"
          ]
        },
        {
          "name": "stderr",
          "output_type": "stream",
          "text": [
            "WARNING:torchdrug.core.logger:>>>>>>>>>>>>>>>>>>>>>>>>>>>>>>\n"
          ]
        },
        {
          "name": "stdout",
          "output_type": "stream",
          "text": [
            "18:36:13   >>>>>>>>>>>>>>>>>>>>>>>>>>>>>>\n"
          ]
        },
        {
          "name": "stderr",
          "output_type": "stream",
          "text": [
            "WARNING:torchdrug.core.logger:mean squared error: 1.04236\n"
          ]
        },
        {
          "name": "stdout",
          "output_type": "stream",
          "text": [
            "18:36:14   mean squared error: 1.04236\n"
          ]
        },
        {
          "name": "stderr",
          "output_type": "stream",
          "text": [
            "WARNING:torchdrug.core.logger:>>>>>>>>>>>>>>>>>>>>>>>>>>>>>>\n"
          ]
        },
        {
          "name": "stdout",
          "output_type": "stream",
          "text": [
            "18:37:21   >>>>>>>>>>>>>>>>>>>>>>>>>>>>>>\n"
          ]
        },
        {
          "name": "stderr",
          "output_type": "stream",
          "text": [
            "WARNING:torchdrug.core.logger:mean squared error: 0.636913\n"
          ]
        },
        {
          "name": "stdout",
          "output_type": "stream",
          "text": [
            "18:37:21   mean squared error: 0.636913\n"
          ]
        },
        {
          "name": "stderr",
          "output_type": "stream",
          "text": [
            "WARNING:torchdrug.core.logger:>>>>>>>>>>>>>>>>>>>>>>>>>>>>>>\n"
          ]
        },
        {
          "name": "stdout",
          "output_type": "stream",
          "text": [
            "18:38:28   >>>>>>>>>>>>>>>>>>>>>>>>>>>>>>\n"
          ]
        },
        {
          "name": "stderr",
          "output_type": "stream",
          "text": [
            "WARNING:torchdrug.core.logger:mean squared error: 0.0547766\n"
          ]
        },
        {
          "name": "stdout",
          "output_type": "stream",
          "text": [
            "18:38:28   mean squared error: 0.0547766\n"
          ]
        },
        {
          "name": "stderr",
          "output_type": "stream",
          "text": [
            "WARNING:torchdrug.core.logger:>>>>>>>>>>>>>>>>>>>>>>>>>>>>>>\n"
          ]
        },
        {
          "name": "stdout",
          "output_type": "stream",
          "text": [
            "18:39:36   >>>>>>>>>>>>>>>>>>>>>>>>>>>>>>\n"
          ]
        },
        {
          "name": "stderr",
          "output_type": "stream",
          "text": [
            "WARNING:torchdrug.core.logger:mean squared error: 13.1287\n"
          ]
        },
        {
          "name": "stdout",
          "output_type": "stream",
          "text": [
            "18:39:36   mean squared error: 13.1287\n"
          ]
        },
        {
          "name": "stderr",
          "output_type": "stream",
          "text": [
            "WARNING:torchdrug.core.logger:>>>>>>>>>>>>>>>>>>>>>>>>>>>>>>\n"
          ]
        },
        {
          "name": "stdout",
          "output_type": "stream",
          "text": [
            "18:40:44   >>>>>>>>>>>>>>>>>>>>>>>>>>>>>>\n"
          ]
        },
        {
          "name": "stderr",
          "output_type": "stream",
          "text": [
            "WARNING:torchdrug.core.logger:mean squared error: 13.4581\n"
          ]
        },
        {
          "name": "stdout",
          "output_type": "stream",
          "text": [
            "18:40:44   mean squared error: 13.4581\n"
          ]
        },
        {
          "name": "stderr",
          "output_type": "stream",
          "text": [
            "WARNING:torchdrug.core.logger:>>>>>>>>>>>>>>>>>>>>>>>>>>>>>>\n"
          ]
        },
        {
          "name": "stdout",
          "output_type": "stream",
          "text": [
            "18:41:54   >>>>>>>>>>>>>>>>>>>>>>>>>>>>>>\n"
          ]
        },
        {
          "name": "stderr",
          "output_type": "stream",
          "text": [
            "WARNING:torchdrug.core.logger:mean squared error: 0.703767\n"
          ]
        },
        {
          "name": "stdout",
          "output_type": "stream",
          "text": [
            "18:41:54   mean squared error: 0.703767\n"
          ]
        },
        {
          "name": "stderr",
          "output_type": "stream",
          "text": [
            "WARNING:torchdrug.core.logger:>>>>>>>>>>>>>>>>>>>>>>>>>>>>>>\n"
          ]
        },
        {
          "name": "stdout",
          "output_type": "stream",
          "text": [
            "18:43:03   >>>>>>>>>>>>>>>>>>>>>>>>>>>>>>\n"
          ]
        },
        {
          "name": "stderr",
          "output_type": "stream",
          "text": [
            "WARNING:torchdrug.core.logger:mean squared error: 0.384253\n"
          ]
        },
        {
          "name": "stdout",
          "output_type": "stream",
          "text": [
            "18:43:04   mean squared error: 0.384253\n"
          ]
        },
        {
          "name": "stderr",
          "output_type": "stream",
          "text": [
            "WARNING:torchdrug.core.logger:>>>>>>>>>>>>>>>>>>>>>>>>>>>>>>\n"
          ]
        },
        {
          "name": "stdout",
          "output_type": "stream",
          "text": [
            "18:44:12   >>>>>>>>>>>>>>>>>>>>>>>>>>>>>>\n"
          ]
        },
        {
          "name": "stderr",
          "output_type": "stream",
          "text": [
            "WARNING:torchdrug.core.logger:mean squared error: 10.6763\n"
          ]
        },
        {
          "name": "stdout",
          "output_type": "stream",
          "text": [
            "18:44:12   mean squared error: 10.6763\n"
          ]
        },
        {
          "name": "stderr",
          "output_type": "stream",
          "text": [
            "WARNING:torchdrug.core.logger:>>>>>>>>>>>>>>>>>>>>>>>>>>>>>>\n"
          ]
        },
        {
          "name": "stdout",
          "output_type": "stream",
          "text": [
            "18:45:20   >>>>>>>>>>>>>>>>>>>>>>>>>>>>>>\n"
          ]
        },
        {
          "name": "stderr",
          "output_type": "stream",
          "text": [
            "WARNING:torchdrug.core.logger:mean squared error: 1.01363\n"
          ]
        },
        {
          "name": "stdout",
          "output_type": "stream",
          "text": [
            "18:45:20   mean squared error: 1.01363\n"
          ]
        },
        {
          "name": "stderr",
          "output_type": "stream",
          "text": [
            "WARNING:torchdrug.core.logger:>>>>>>>>>>>>>>>>>>>>>>>>>>>>>>\n"
          ]
        },
        {
          "name": "stdout",
          "output_type": "stream",
          "text": [
            "18:46:28   >>>>>>>>>>>>>>>>>>>>>>>>>>>>>>\n"
          ]
        },
        {
          "name": "stderr",
          "output_type": "stream",
          "text": [
            "WARNING:torchdrug.core.logger:mean squared error: 20.3158\n"
          ]
        },
        {
          "name": "stdout",
          "output_type": "stream",
          "text": [
            "18:46:29   mean squared error: 20.3158\n"
          ]
        },
        {
          "name": "stderr",
          "output_type": "stream",
          "text": [
            "WARNING:torchdrug.core.logger:>>>>>>>>>>>>>>>>>>>>>>>>>>>>>>\n"
          ]
        },
        {
          "name": "stdout",
          "output_type": "stream",
          "text": [
            "18:47:36   >>>>>>>>>>>>>>>>>>>>>>>>>>>>>>\n"
          ]
        },
        {
          "name": "stderr",
          "output_type": "stream",
          "text": [
            "WARNING:torchdrug.core.logger:mean squared error: 6.25735\n"
          ]
        },
        {
          "name": "stdout",
          "output_type": "stream",
          "text": [
            "18:47:36   mean squared error: 6.25735\n"
          ]
        },
        {
          "name": "stderr",
          "output_type": "stream",
          "text": [
            "WARNING:torchdrug.core.logger:>>>>>>>>>>>>>>>>>>>>>>>>>>>>>>\n"
          ]
        },
        {
          "name": "stdout",
          "output_type": "stream",
          "text": [
            "18:48:44   >>>>>>>>>>>>>>>>>>>>>>>>>>>>>>\n"
          ]
        },
        {
          "name": "stderr",
          "output_type": "stream",
          "text": [
            "WARNING:torchdrug.core.logger:mean squared error: 22.4885\n"
          ]
        },
        {
          "name": "stdout",
          "output_type": "stream",
          "text": [
            "18:48:44   mean squared error: 22.4885\n"
          ]
        },
        {
          "name": "stderr",
          "output_type": "stream",
          "text": [
            "WARNING:torchdrug.core.logger:>>>>>>>>>>>>>>>>>>>>>>>>>>>>>>\n"
          ]
        },
        {
          "name": "stdout",
          "output_type": "stream",
          "text": [
            "18:49:52   >>>>>>>>>>>>>>>>>>>>>>>>>>>>>>\n"
          ]
        },
        {
          "name": "stderr",
          "output_type": "stream",
          "text": [
            "WARNING:torchdrug.core.logger:mean squared error: 27.9001\n"
          ]
        },
        {
          "name": "stdout",
          "output_type": "stream",
          "text": [
            "18:49:52   mean squared error: 27.9001\n"
          ]
        },
        {
          "name": "stderr",
          "output_type": "stream",
          "text": [
            "WARNING:torchdrug.core.meter:>>>>>>>>>>>>>>>>>>>>>>>>>>>>>>\n"
          ]
        },
        {
          "name": "stdout",
          "output_type": "stream",
          "text": [
            "18:50:06   >>>>>>>>>>>>>>>>>>>>>>>>>>>>>>\n"
          ]
        },
        {
          "name": "stderr",
          "output_type": "stream",
          "text": [
            "WARNING:torchdrug.core.meter:Epoch 0 end\n"
          ]
        },
        {
          "name": "stdout",
          "output_type": "stream",
          "text": [
            "18:50:06   Epoch 0 end\n"
          ]
        },
        {
          "name": "stderr",
          "output_type": "stream",
          "text": [
            "WARNING:torchdrug.core.meter:duration: 27.20 mins\n"
          ]
        },
        {
          "name": "stdout",
          "output_type": "stream",
          "text": [
            "18:50:06   duration: 27.20 mins\n"
          ]
        },
        {
          "name": "stderr",
          "output_type": "stream",
          "text": [
            "WARNING:torchdrug.core.meter:speed: 1.48 batch / sec\n"
          ]
        },
        {
          "name": "stdout",
          "output_type": "stream",
          "text": [
            "18:50:06   speed: 1.48 batch / sec\n"
          ]
        },
        {
          "name": "stderr",
          "output_type": "stream",
          "text": [
            "WARNING:torchdrug.core.meter:ETA: 4.08 hours\n"
          ]
        },
        {
          "name": "stdout",
          "output_type": "stream",
          "text": [
            "18:50:06   ETA: 4.08 hours\n"
          ]
        },
        {
          "name": "stderr",
          "output_type": "stream",
          "text": [
            "WARNING:torchdrug.core.meter:max GPU memory: 13475.7 MiB\n"
          ]
        },
        {
          "name": "stdout",
          "output_type": "stream",
          "text": [
            "18:50:06   max GPU memory: 13475.7 MiB\n"
          ]
        },
        {
          "name": "stderr",
          "output_type": "stream",
          "text": [
            "WARNING:torchdrug.core.logger:------------------------------\n"
          ]
        },
        {
          "name": "stdout",
          "output_type": "stream",
          "text": [
            "18:50:06   ------------------------------\n"
          ]
        },
        {
          "name": "stderr",
          "output_type": "stream",
          "text": [
            "WARNING:torchdrug.core.logger:average mean squared error: 7.6638\n"
          ]
        },
        {
          "name": "stdout",
          "output_type": "stream",
          "text": [
            "18:50:06   average mean squared error: 7.6638\n"
          ]
        },
        {
          "name": "stderr",
          "output_type": "stream",
          "text": [
            "WARNING:torchdrug.core.meter:>>>>>>>>>>>>>>>>>>>>>>>>>>>>>>\n"
          ]
        },
        {
          "name": "stdout",
          "output_type": "stream",
          "text": [
            "18:50:06   >>>>>>>>>>>>>>>>>>>>>>>>>>>>>>\n"
          ]
        },
        {
          "name": "stderr",
          "output_type": "stream",
          "text": [
            "WARNING:torchdrug.core.meter:Epoch 1 begin\n"
          ]
        },
        {
          "name": "stdout",
          "output_type": "stream",
          "text": [
            "18:50:06   Epoch 1 begin\n"
          ]
        },
        {
          "name": "stderr",
          "output_type": "stream",
          "text": [
            "WARNING:torchdrug.core.logger:>>>>>>>>>>>>>>>>>>>>>>>>>>>>>>\n"
          ]
        },
        {
          "name": "stdout",
          "output_type": "stream",
          "text": [
            "18:51:01   >>>>>>>>>>>>>>>>>>>>>>>>>>>>>>\n"
          ]
        },
        {
          "name": "stderr",
          "output_type": "stream",
          "text": [
            "WARNING:torchdrug.core.logger:mean squared error: 10.5632\n"
          ]
        },
        {
          "name": "stdout",
          "output_type": "stream",
          "text": [
            "18:51:02   mean squared error: 10.5632\n"
          ]
        },
        {
          "name": "stderr",
          "output_type": "stream",
          "text": [
            "WARNING:torchdrug.core.logger:>>>>>>>>>>>>>>>>>>>>>>>>>>>>>>\n"
          ]
        },
        {
          "name": "stdout",
          "output_type": "stream",
          "text": [
            "18:52:11   >>>>>>>>>>>>>>>>>>>>>>>>>>>>>>\n"
          ]
        },
        {
          "name": "stderr",
          "output_type": "stream",
          "text": [
            "WARNING:torchdrug.core.logger:mean squared error: 1.69035\n"
          ]
        },
        {
          "name": "stdout",
          "output_type": "stream",
          "text": [
            "18:52:11   mean squared error: 1.69035\n"
          ]
        },
        {
          "name": "stderr",
          "output_type": "stream",
          "text": [
            "WARNING:torchdrug.core.logger:>>>>>>>>>>>>>>>>>>>>>>>>>>>>>>\n"
          ]
        },
        {
          "name": "stdout",
          "output_type": "stream",
          "text": [
            "18:53:19   >>>>>>>>>>>>>>>>>>>>>>>>>>>>>>\n"
          ]
        },
        {
          "name": "stderr",
          "output_type": "stream",
          "text": [
            "WARNING:torchdrug.core.logger:mean squared error: 24.3664\n"
          ]
        },
        {
          "name": "stdout",
          "output_type": "stream",
          "text": [
            "18:53:19   mean squared error: 24.3664\n"
          ]
        },
        {
          "name": "stderr",
          "output_type": "stream",
          "text": [
            "WARNING:torchdrug.core.logger:>>>>>>>>>>>>>>>>>>>>>>>>>>>>>>\n"
          ]
        },
        {
          "name": "stdout",
          "output_type": "stream",
          "text": [
            "18:54:27   >>>>>>>>>>>>>>>>>>>>>>>>>>>>>>\n"
          ]
        },
        {
          "name": "stderr",
          "output_type": "stream",
          "text": [
            "WARNING:torchdrug.core.logger:mean squared error: 1.1357\n"
          ]
        },
        {
          "name": "stdout",
          "output_type": "stream",
          "text": [
            "18:54:27   mean squared error: 1.1357\n"
          ]
        },
        {
          "name": "stderr",
          "output_type": "stream",
          "text": [
            "WARNING:torchdrug.core.logger:>>>>>>>>>>>>>>>>>>>>>>>>>>>>>>\n"
          ]
        },
        {
          "name": "stdout",
          "output_type": "stream",
          "text": [
            "18:55:36   >>>>>>>>>>>>>>>>>>>>>>>>>>>>>>\n"
          ]
        },
        {
          "name": "stderr",
          "output_type": "stream",
          "text": [
            "WARNING:torchdrug.core.logger:mean squared error: 2.17713\n"
          ]
        },
        {
          "name": "stdout",
          "output_type": "stream",
          "text": [
            "18:55:36   mean squared error: 2.17713\n"
          ]
        },
        {
          "name": "stderr",
          "output_type": "stream",
          "text": [
            "WARNING:torchdrug.core.logger:>>>>>>>>>>>>>>>>>>>>>>>>>>>>>>\n"
          ]
        },
        {
          "name": "stdout",
          "output_type": "stream",
          "text": [
            "18:56:45   >>>>>>>>>>>>>>>>>>>>>>>>>>>>>>\n"
          ]
        },
        {
          "name": "stderr",
          "output_type": "stream",
          "text": [
            "WARNING:torchdrug.core.logger:mean squared error: 14.8076\n"
          ]
        },
        {
          "name": "stdout",
          "output_type": "stream",
          "text": [
            "18:56:45   mean squared error: 14.8076\n"
          ]
        },
        {
          "name": "stderr",
          "output_type": "stream",
          "text": [
            "WARNING:torchdrug.core.logger:>>>>>>>>>>>>>>>>>>>>>>>>>>>>>>\n"
          ]
        },
        {
          "name": "stdout",
          "output_type": "stream",
          "text": [
            "18:57:52   >>>>>>>>>>>>>>>>>>>>>>>>>>>>>>\n"
          ]
        },
        {
          "name": "stderr",
          "output_type": "stream",
          "text": [
            "WARNING:torchdrug.core.logger:mean squared error: 15.9798\n"
          ]
        },
        {
          "name": "stdout",
          "output_type": "stream",
          "text": [
            "18:57:52   mean squared error: 15.9798\n"
          ]
        },
        {
          "ename": "KeyboardInterrupt",
          "evalue": "ignored",
          "output_type": "error",
          "traceback": [
            "\u001b[0;31m---------------------------------------------------------------------------\u001b[0m",
            "\u001b[0;31mKeyboardInterrupt\u001b[0m                         Traceback (most recent call last)",
            "\u001b[0;32m<ipython-input-14-c1fe4e4ed0aa>\u001b[0m in \u001b[0;36m<cell line: 7>\u001b[0;34m()\u001b[0m\n\u001b[1;32m      5\u001b[0m solver = core.Engine(task, train_set, valid_set, test_set, optimizer,\n\u001b[1;32m      6\u001b[0m                      gpus=[0], batch_size=1)\n\u001b[0;32m----> 7\u001b[0;31m \u001b[0msolver\u001b[0m\u001b[0;34m.\u001b[0m\u001b[0mtrain\u001b[0m\u001b[0;34m(\u001b[0m\u001b[0mnum_epoch\u001b[0m\u001b[0;34m=\u001b[0m\u001b[0;36m10\u001b[0m\u001b[0;34m)\u001b[0m\u001b[0;34m\u001b[0m\u001b[0;34m\u001b[0m\u001b[0m\n\u001b[0m\u001b[1;32m      8\u001b[0m \u001b[0msolver\u001b[0m\u001b[0;34m.\u001b[0m\u001b[0mevaluate\u001b[0m\u001b[0;34m(\u001b[0m\u001b[0;34m\"valid\"\u001b[0m\u001b[0;34m)\u001b[0m\u001b[0;34m\u001b[0m\u001b[0;34m\u001b[0m\u001b[0m\n",
            "\u001b[0;32m/usr/local/lib/python3.10/dist-packages/torchdrug/core/engine.py\u001b[0m in \u001b[0;36mtrain\u001b[0;34m(self, num_epoch, batch_per_epoch)\u001b[0m\n\u001b[1;32m    163\u001b[0m                     \u001b[0;32mraise\u001b[0m \u001b[0mRuntimeError\u001b[0m\u001b[0;34m(\u001b[0m\u001b[0;34m\"Loss doesn't require grad. Did you define any loss in the task?\"\u001b[0m\u001b[0;34m)\u001b[0m\u001b[0;34m\u001b[0m\u001b[0;34m\u001b[0m\u001b[0m\n\u001b[1;32m    164\u001b[0m                 \u001b[0mloss\u001b[0m \u001b[0;34m=\u001b[0m \u001b[0mloss\u001b[0m \u001b[0;34m/\u001b[0m \u001b[0mgradient_interval\u001b[0m\u001b[0;34m\u001b[0m\u001b[0;34m\u001b[0m\u001b[0m\n\u001b[0;32m--> 165\u001b[0;31m                 \u001b[0mloss\u001b[0m\u001b[0;34m.\u001b[0m\u001b[0mbackward\u001b[0m\u001b[0;34m(\u001b[0m\u001b[0;34m)\u001b[0m\u001b[0;34m\u001b[0m\u001b[0;34m\u001b[0m\u001b[0m\n\u001b[0m\u001b[1;32m    166\u001b[0m                 \u001b[0mmetrics\u001b[0m\u001b[0;34m.\u001b[0m\u001b[0mappend\u001b[0m\u001b[0;34m(\u001b[0m\u001b[0mmetric\u001b[0m\u001b[0;34m)\u001b[0m\u001b[0;34m\u001b[0m\u001b[0;34m\u001b[0m\u001b[0m\n\u001b[1;32m    167\u001b[0m \u001b[0;34m\u001b[0m\u001b[0m\n",
            "\u001b[0;32m/usr/local/lib/python3.10/dist-packages/torch/_tensor.py\u001b[0m in \u001b[0;36mbackward\u001b[0;34m(self, gradient, retain_graph, create_graph, inputs)\u001b[0m\n\u001b[1;32m    490\u001b[0m                 \u001b[0minputs\u001b[0m\u001b[0;34m=\u001b[0m\u001b[0minputs\u001b[0m\u001b[0;34m,\u001b[0m\u001b[0;34m\u001b[0m\u001b[0;34m\u001b[0m\u001b[0m\n\u001b[1;32m    491\u001b[0m             )\n\u001b[0;32m--> 492\u001b[0;31m         torch.autograd.backward(\n\u001b[0m\u001b[1;32m    493\u001b[0m             \u001b[0mself\u001b[0m\u001b[0;34m,\u001b[0m \u001b[0mgradient\u001b[0m\u001b[0;34m,\u001b[0m \u001b[0mretain_graph\u001b[0m\u001b[0;34m,\u001b[0m \u001b[0mcreate_graph\u001b[0m\u001b[0;34m,\u001b[0m \u001b[0minputs\u001b[0m\u001b[0;34m=\u001b[0m\u001b[0minputs\u001b[0m\u001b[0;34m\u001b[0m\u001b[0;34m\u001b[0m\u001b[0m\n\u001b[1;32m    494\u001b[0m         )\n",
            "\u001b[0;32m/usr/local/lib/python3.10/dist-packages/torch/autograd/__init__.py\u001b[0m in \u001b[0;36mbackward\u001b[0;34m(tensors, grad_tensors, retain_graph, create_graph, grad_variables, inputs)\u001b[0m\n\u001b[1;32m    249\u001b[0m     \u001b[0;31m# some Python versions print out the first line of a multi-line function\u001b[0m\u001b[0;34m\u001b[0m\u001b[0;34m\u001b[0m\u001b[0m\n\u001b[1;32m    250\u001b[0m     \u001b[0;31m# calls in the traceback and some print out the last line\u001b[0m\u001b[0;34m\u001b[0m\u001b[0;34m\u001b[0m\u001b[0m\n\u001b[0;32m--> 251\u001b[0;31m     Variable._execution_engine.run_backward(  # Calls into the C++ engine to run the backward pass\n\u001b[0m\u001b[1;32m    252\u001b[0m         \u001b[0mtensors\u001b[0m\u001b[0;34m,\u001b[0m\u001b[0;34m\u001b[0m\u001b[0;34m\u001b[0m\u001b[0m\n\u001b[1;32m    253\u001b[0m         \u001b[0mgrad_tensors_\u001b[0m\u001b[0;34m,\u001b[0m\u001b[0;34m\u001b[0m\u001b[0;34m\u001b[0m\u001b[0m\n",
            "\u001b[0;31mKeyboardInterrupt\u001b[0m: "
          ]
        }
      ],
      "source": [
        "# model training process. Modify batch size. Will take a long time. Running aborted if you see some results.\n",
        "import torch\n",
        "from torchdrug import core\n",
        "\n",
        "optimizer = torch.optim.Adam(task.parameters(), lr=1e-4)\n",
        "solver = core.Engine(task, train_set, valid_set, test_set, optimizer,\n",
        "                     gpus=[0], batch_size=1)\n",
        "solver.train(num_epoch=10)\n",
        "solver.evaluate(\"valid\")\n"
      ]
    }
  ],
  "metadata": {
    "accelerator": "GPU",
    "colab": {
      "gpuType": "T4",
      "provenance": []
    },
    "kernelspec": {
      "display_name": "Python 3",
      "name": "python3"
    },
    "language_info": {
      "name": "python"
    }
  },
  "nbformat": 4,
  "nbformat_minor": 0
}
